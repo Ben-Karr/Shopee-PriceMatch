{
 "cells": [
  {
   "cell_type": "code",
   "execution_count": 1,
   "metadata": {},
   "outputs": [],
   "source": [
    "from fastai.vision.all import *"
   ]
  },
  {
   "cell_type": "code",
   "execution_count": 3,
   "metadata": {},
   "outputs": [],
   "source": [
    "base_path = Path('src')\n",
    "\n",
    "img_train = base_path / 'train_images'\n",
    "img_test = base_path / 'test_images'"
   ]
  },
  {
   "cell_type": "code",
   "execution_count": 4,
   "metadata": {},
   "outputs": [],
   "source": [
    "df_train = pd.read_csv(base_path / 'train.csv')\n",
    "df_test = pd.read_csv(base_path / 'test.csv')"
   ]
  },
  {
   "cell_type": "code",
   "execution_count": 5,
   "metadata": {},
   "outputs": [],
   "source": [
    "df_train['image'] = df_train['image'].apply(lambda x: img_train / x)"
   ]
  },
  {
   "cell_type": "markdown",
   "metadata": {},
   "source": [
    "## create smaller dataset"
   ]
  },
  {
   "cell_type": "code",
   "execution_count": 6,
   "metadata": {},
   "outputs": [],
   "source": [
    "x = df_train['label_group'].unique()\n",
    "y = np.random.choice(x, size = int(len(x)*0.1), replace = False)\n",
    "df_train = df_train[df_train['label_group'].isin(y)]\n",
    "df_train = df_train.reset_index(drop = True)"
   ]
  },
  {
   "cell_type": "code",
   "execution_count": 7,
   "metadata": {},
   "outputs": [
    {
     "data": {
      "text/html": [
       "<div>\n",
       "<style scoped>\n",
       "    .dataframe tbody tr th:only-of-type {\n",
       "        vertical-align: middle;\n",
       "    }\n",
       "\n",
       "    .dataframe tbody tr th {\n",
       "        vertical-align: top;\n",
       "    }\n",
       "\n",
       "    .dataframe thead th {\n",
       "        text-align: right;\n",
       "    }\n",
       "</style>\n",
       "<table border=\"1\" class=\"dataframe\">\n",
       "  <thead>\n",
       "    <tr style=\"text-align: right;\">\n",
       "      <th></th>\n",
       "      <th>posting_id</th>\n",
       "      <th>image</th>\n",
       "      <th>image_phash</th>\n",
       "      <th>title</th>\n",
       "      <th>label_group</th>\n",
       "    </tr>\n",
       "  </thead>\n",
       "  <tbody>\n",
       "    <tr>\n",
       "      <th>0</th>\n",
       "      <td>train_2464356923</td>\n",
       "      <td>src/train_images/0013e7355ffc5ff8fb1ccad3e42d92fe.jpg</td>\n",
       "      <td>bbd097a7870f4a50</td>\n",
       "      <td>CELANA WANITA  (BB 45-84 KG)Harem wanita (bisa cod)</td>\n",
       "      <td>2660605217</td>\n",
       "    </tr>\n",
       "    <tr>\n",
       "      <th>1</th>\n",
       "      <td>train_1396146683</td>\n",
       "      <td>src/train_images/0035b8fc42955c0fa2301b68e2ffe861.jpg</td>\n",
       "      <td>d5c0caa0aeb3b23e</td>\n",
       "      <td>CHOCO BALL LAGIE COKLAT Lagie Grosir Cokelat Lagie Murah Chocoball Kiloan Chocobal Coklat Kiloan 1Kg</td>\n",
       "      <td>4240123481</td>\n",
       "    </tr>\n",
       "    <tr>\n",
       "      <th>2</th>\n",
       "      <td>train_2410183091</td>\n",
       "      <td>src/train_images/004822e4ab7dd38455a134fb2f2dd05e.jpg</td>\n",
       "      <td>ba4ac2435eb989b6</td>\n",
       "      <td>B33F My Food Shop Shopping Trolley - ST. 003 troli mainan edukasi anak keranjang belanja</td>\n",
       "      <td>2464977091</td>\n",
       "    </tr>\n",
       "    <tr>\n",
       "      <th>3</th>\n",
       "      <td>train_961019399</td>\n",
       "      <td>src/train_images/0061fff53b6eba569fb383da29fdcb47.jpg</td>\n",
       "      <td>b1ccce33b0ccb332</td>\n",
       "      <td>Masker Scuba Korea Anti Polusi &amp; Debu Bahan Scuba</td>\n",
       "      <td>98592019</td>\n",
       "    </tr>\n",
       "    <tr>\n",
       "      <th>4</th>\n",
       "      <td>train_3706564646</td>\n",
       "      <td>src/train_images/00ea50369abb3c61ebe3f8c52c9b4650.jpg</td>\n",
       "      <td>b0c6b7ceb2cc238c</td>\n",
       "      <td>YANG LAGI HITS DICARI GAN Termurah Kurta Pria Cowok Muslim Kasual Formal Lengan l.625</td>\n",
       "      <td>3624714500</td>\n",
       "    </tr>\n",
       "  </tbody>\n",
       "</table>\n",
       "</div>"
      ],
      "text/plain": [
       "         posting_id                                                  image  \\\n",
       "0  train_2464356923  src/train_images/0013e7355ffc5ff8fb1ccad3e42d92fe.jpg   \n",
       "1  train_1396146683  src/train_images/0035b8fc42955c0fa2301b68e2ffe861.jpg   \n",
       "2  train_2410183091  src/train_images/004822e4ab7dd38455a134fb2f2dd05e.jpg   \n",
       "3   train_961019399  src/train_images/0061fff53b6eba569fb383da29fdcb47.jpg   \n",
       "4  train_3706564646  src/train_images/00ea50369abb3c61ebe3f8c52c9b4650.jpg   \n",
       "\n",
       "        image_phash  \\\n",
       "0  bbd097a7870f4a50   \n",
       "1  d5c0caa0aeb3b23e   \n",
       "2  ba4ac2435eb989b6   \n",
       "3  b1ccce33b0ccb332   \n",
       "4  b0c6b7ceb2cc238c   \n",
       "\n",
       "                                                                                                  title  \\\n",
       "0                                                   CELANA WANITA  (BB 45-84 KG)Harem wanita (bisa cod)   \n",
       "1  CHOCO BALL LAGIE COKLAT Lagie Grosir Cokelat Lagie Murah Chocoball Kiloan Chocobal Coklat Kiloan 1Kg   \n",
       "2              B33F My Food Shop Shopping Trolley - ST. 003 troli mainan edukasi anak keranjang belanja   \n",
       "3                                                     Masker Scuba Korea Anti Polusi & Debu Bahan Scuba   \n",
       "4                 YANG LAGI HITS DICARI GAN Termurah Kurta Pria Cowok Muslim Kasual Formal Lengan l.625   \n",
       "\n",
       "   label_group  \n",
       "0   2660605217  \n",
       "1   4240123481  \n",
       "2   2464977091  \n",
       "3     98592019  \n",
       "4   3624714500  "
      ]
     },
     "execution_count": 7,
     "metadata": {},
     "output_type": "execute_result"
    }
   ],
   "source": [
    "df_train.head()"
   ]
  },
  {
   "cell_type": "code",
   "execution_count": 22,
   "metadata": {},
   "outputs": [],
   "source": [
    "class ImageTuple(fastuple):\n",
    "    @classmethod\n",
    "    def create(cls, fns):\n",
    "        return cls(tuple(PILImage.create(f) for f in fns))\n",
    "    \n",
    "    def show(self, ctx = None, **kwargs):\n",
    "        t1, t2 = self\n",
    "        if not isinstance(t1, Tensor) or not isinstance(t2, Tensor) or t1.shape != t2.shape:\n",
    "            return ctx\n",
    "        line = t1.new_zeros(t1.shape[0], t1.shape[1], 10)\n",
    "        \n",
    "        return show_image(torch.cat([t1,line,t2], dim=2), ctx = ctx, **kwargs)"
   ]
  },
  {
   "cell_type": "code",
   "execution_count": 23,
   "metadata": {},
   "outputs": [],
   "source": [
    "files = L(df_train.image.tolist())"
   ]
  },
  {
   "cell_type": "code",
   "execution_count": 24,
   "metadata": {},
   "outputs": [
    {
     "data": {
      "text/plain": [
       "(fastai.torch_core.TensorImage, fastai.torch_core.TensorImage)"
      ]
     },
     "execution_count": 24,
     "metadata": {},
     "output_type": "execute_result"
    }
   ],
   "source": [
    "img = ImageTuple.create((files[0], files[1]))\n",
    "tst = ToTensor()(img)\n",
    "type(tst[0]),type(tst[1])"
   ]
  },
  {
   "cell_type": "code",
   "execution_count": 25,
   "metadata": {},
   "outputs": [
    {
     "data": {
      "image/png": "[encoded data removed]",
      "text/plain": [
       "<Figure size 360x360 with 1 Axes>"
      ]
     },
     "metadata": {
      "needs_background": "light"
     },
     "output_type": "display_data"
    }
   ],
   "source": [
    "img1 = Resize(224)(img)\n",
    "tst = ToTensor()(img1)\n",
    "tst.show();"
   ]
  },
  {
   "cell_type": "code",
   "execution_count": 27,
   "metadata": {},
   "outputs": [],
   "source": [
    "def ImageTupleBlock():\n",
    "    return TransformBlock(type_tfms = ImageTuple.create, batch_tfms = IntToFloatTensor)"
   ]
  },
  {
   "cell_type": "markdown",
   "metadata": {},
   "source": [
    "`splits` is a 2-tuple of L-lists. The first element is the list of indices of the training files, the second a list of the indices of the validation files. They are used to mask the files L-lists."
   ]
  },
  {
   "cell_type": "code",
   "execution_count": 121,
   "metadata": {},
   "outputs": [],
   "source": [
    "def split_by_label(df):\n",
    "    # L-list of unique labels\n",
    "    labels = L(df.label_group.unique().tolist())\n",
    "    # Randomly split labels\n",
    "    split_labels = RandomSplitter(valid_pct=0.2)(labels)  # Returns 80/20 split of labels\n",
    "\n",
    "    # Mask labels to receive train/val labels\n",
    "    train_labels = labels[split_labels[0]]\n",
    "    validation_labels = labels[split_labels[1]]\n",
    "\n",
    "    # Add colum to mark file as a part of the training/validation set\n",
    "    df['is_valid'] = df_train.label_group.isin(validation_labels)\n",
    "\n",
    "    # Sanity check:\n",
    "    assert((df.groupby(['label_group'])['is_valid'].nunique() > 1).sum() == 0)\n",
    "    \n",
    "    files = L(df['image'].tolist())\n",
    "    train_idx = df[df['is_valid'] == False].index.tolist()\n",
    "    validation_idx = df[df['is_valid'] == True].index.tolist()\n",
    "    \n",
    "    # Sanity check:\n",
    "    assert(set(files[train_idx]) == set(df[df['is_valid'] == False]['image']))\n",
    "    assert(set(files[validation_idx]) == set (df[df['is_valid'] == True]['image']))\n",
    "    \n",
    "    return files, train_labels, validation_labels, train_idx, validation_idx"
   ]
  },
  {
   "cell_type": "code",
   "execution_count": 131,
   "metadata": {},
   "outputs": [],
   "source": [
    "files, train_labels, validation_labels, train_split, val_split = split_by_label(df_train)\n",
    "splits = (train_split, val_split)\n",
    "labels = (train_labels,validation_labels)"
   ]
  },
  {
   "cell_type": "code",
   "execution_count": 205,
   "metadata": {},
   "outputs": [],
   "source": [
    "###########\n",
    "###########\n",
    "###########\n",
    "###########\n",
    "\n",
    "for f in files[splits[0]]:\n",
    "    assert(label_func(f) in labels[0])\n",
    "\n",
    "#################################"
   ]
  },
  {
   "cell_type": "code",
   "execution_count": 123,
   "metadata": {},
   "outputs": [
    {
     "name": "stdout",
     "output_type": "stream",
     "text": [
      "0.7994730679156908 0.20052693208430913\n"
     ]
    }
   ],
   "source": [
    "# Splitting the labels 80/20 also results in a ~80/20 file-split\n",
    "n = len(files)\n",
    "print(len(splits[0])/n, len(splits[1])/n)"
   ]
  },
  {
   "cell_type": "code",
   "execution_count": 124,
   "metadata": {},
   "outputs": [],
   "source": [
    "splits_files = [files[splits[i]] for i in range(2)]\n",
    "splits_sets = mapped(set, splits_files)"
   ]
  },
  {
   "cell_type": "code",
   "execution_count": 206,
   "metadata": {},
   "outputs": [],
   "source": [
    "###########\n",
    "###########\n",
    "###########\n",
    "###########\n",
    "\n",
    "for i in range(2):\n",
    "    for f in splits_files[i]:\n",
    "        assert(get_split(f) == i)\n",
    "        \n",
    "   \n",
    "for f in files:\n",
    "    assert(f in splits_files[get_split(f)])\n",
    "#################################"
   ]
  },
  {
   "cell_type": "code",
   "execution_count": 186,
   "metadata": {},
   "outputs": [
    {
     "name": "stdout",
     "output_type": "stream",
     "text": [
      "1169\n"
     ]
    }
   ],
   "source": [
    "###########\n",
    "###########\n",
    "###########\n",
    "###########\n",
    "\n",
    "count = 0\n",
    "\n",
    "for f in files:\n",
    "    if not label_func(f) in labels[get_split(f)]:\n",
    "        count +=1\n",
    "        \n",
    "print(count)\n",
    "#################################"
   ]
  },
  {
   "cell_type": "code",
   "execution_count": 127,
   "metadata": {},
   "outputs": [],
   "source": [
    "def get_split(f):\n",
    "    for i,s in enumerate(splits_sets):\n",
    "        if f in s:\n",
    "            return i\n",
    "    raise ValueError(f'File {f} is not presented in any split.')"
   ]
  },
  {
   "cell_type": "code",
   "execution_count": 136,
   "metadata": {},
   "outputs": [],
   "source": [
    "def label_func(f):\n",
    "    return df_train[df_train['image'] == f]['label_group'].values[0]"
   ]
  },
  {
   "cell_type": "code",
   "execution_count": 126,
   "metadata": {},
   "outputs": [],
   "source": [
    "# Sanity check, all labels blong either to the training OR the validation set\n",
    "assert(set(mapped(get_label,splits_files[0])).intersection(set(mapped(get_label, splits_files[1]))) == set())"
   ]
  },
  {
   "cell_type": "code",
   "execution_count": 128,
   "metadata": {},
   "outputs": [],
   "source": [
    "# from fastai tutorial, not suitable for large number of labels! Make use of the dataframe.\n",
    "# splbl2files = [{l: [f for f in s if label_func(f) == l] for l in labels} for s in splits_sets]\n",
    "splbl2files = [(df_train.loc[splits[i]]).groupby(['label_group'])['image'].apply(list).to_dict() for i in range(2)]"
   ]
  },
  {
   "cell_type": "markdown",
   "metadata": {},
   "source": [
    "# Whats this for??"
   ]
  },
  {
   "cell_type": "code",
   "execution_count": 129,
   "metadata": {},
   "outputs": [],
   "source": [
    "def splitter(items):\n",
    "    def get_split_files(i):\n",
    "        return [j for j, (f1,f2,same) in einumerate(items) if get_split(f1) == i]\n",
    "    return get_split_files(0), get_split_files(1)"
   ]
  },
  {
   "cell_type": "markdown",
   "metadata": {},
   "source": [
    "-----------------"
   ]
  },
  {
   "cell_type": "code",
   "execution_count": 152,
   "metadata": {},
   "outputs": [],
   "source": [
    "def draw_other(f):\n",
    "    same = random.random() < 0.5\n",
    "    cls = label_func(f)\n",
    "    split = get_split(f)\n",
    "    print(same, cls, split)\n",
    "    if not same:\n",
    "        ## src\n",
    "        # cls = random.choice(L(l for l in labels if 1 != cls))\n",
    "        # make shure to pick a label that is from the same split\n",
    "        cls = random.choice(L(l for l in labels[split] if l != cls))\n",
    "        print(f'new cls: {cls}')\n",
    "    ## src\n",
    "    #return random.choice(splbl2files[split][cls]),same\n",
    "    # make shure to not pick the input file itself\n",
    "    return random.choice([f2 for f2 in splbl2files[split][cls] if f2 != f]), same"
   ]
  },
  {
   "cell_type": "code",
   "execution_count": 153,
   "metadata": {},
   "outputs": [
    {
     "name": "stdout",
     "output_type": "stream",
     "text": [
      "src/train_images/0013e7355ffc5ff8fb1ccad3e42d92fe.jpg\n",
      "False 2660605217 0\n",
      "new cls: 1813822567\n",
      "src/train_images/0035b8fc42955c0fa2301b68e2ffe861.jpg\n",
      "False 4240123481 1\n",
      "new cls: 3648260272\n"
     ]
    },
    {
     "ename": "KeyError",
     "evalue": "3648260272",
     "output_type": "error",
     "traceback": [
      "\u001b[0;31m---------------------------------------------------------------------------\u001b[0m",
      "\u001b[0;31mKeyError\u001b[0m                                  Traceback (most recent call last)",
      "\u001b[0;32m<ipython-input-153-94c413d976bc>\u001b[0m in \u001b[0;36m<module>\u001b[0;34m\u001b[0m\n\u001b[1;32m      1\u001b[0m \u001b[0;32mfor\u001b[0m \u001b[0mfile\u001b[0m \u001b[0;32min\u001b[0m \u001b[0mfiles\u001b[0m\u001b[0;34m:\u001b[0m\u001b[0;34m\u001b[0m\u001b[0;34m\u001b[0m\u001b[0m\n\u001b[1;32m      2\u001b[0m     \u001b[0mprint\u001b[0m\u001b[0;34m(\u001b[0m\u001b[0mfile\u001b[0m\u001b[0;34m)\u001b[0m\u001b[0;34m\u001b[0m\u001b[0;34m\u001b[0m\u001b[0m\n\u001b[0;32m----> 3\u001b[0;31m     \u001b[0mdraw_other\u001b[0m\u001b[0;34m(\u001b[0m\u001b[0mfile\u001b[0m\u001b[0;34m)\u001b[0m\u001b[0;34m\u001b[0m\u001b[0;34m\u001b[0m\u001b[0m\n\u001b[0m",
      "\u001b[0;32m<ipython-input-152-f2abbb74f20f>\u001b[0m in \u001b[0;36mdraw_other\u001b[0;34m(f)\u001b[0m\n\u001b[1;32m     13\u001b[0m     \u001b[0;31m#return random.choice(splbl2files[split][cls]),same\u001b[0m\u001b[0;34m\u001b[0m\u001b[0;34m\u001b[0m\u001b[0;34m\u001b[0m\u001b[0m\n\u001b[1;32m     14\u001b[0m     \u001b[0;31m# make shure to not pick the input file itself\u001b[0m\u001b[0;34m\u001b[0m\u001b[0;34m\u001b[0m\u001b[0;34m\u001b[0m\u001b[0m\n\u001b[0;32m---> 15\u001b[0;31m     \u001b[0;32mreturn\u001b[0m \u001b[0mrandom\u001b[0m\u001b[0;34m.\u001b[0m\u001b[0mchoice\u001b[0m\u001b[0;34m(\u001b[0m\u001b[0;34m[\u001b[0m\u001b[0mf2\u001b[0m \u001b[0;32mfor\u001b[0m \u001b[0mf2\u001b[0m \u001b[0;32min\u001b[0m \u001b[0msplbl2files\u001b[0m\u001b[0;34m[\u001b[0m\u001b[0msplit\u001b[0m\u001b[0;34m]\u001b[0m\u001b[0;34m[\u001b[0m\u001b[0mcls\u001b[0m\u001b[0;34m]\u001b[0m \u001b[0;32mif\u001b[0m \u001b[0mf2\u001b[0m \u001b[0;34m!=\u001b[0m \u001b[0mf\u001b[0m\u001b[0;34m]\u001b[0m\u001b[0;34m)\u001b[0m\u001b[0;34m,\u001b[0m \u001b[0msame\u001b[0m\u001b[0;34m\u001b[0m\u001b[0;34m\u001b[0m\u001b[0m\n\u001b[0m",
      "\u001b[0;31mKeyError\u001b[0m: 3648260272"
     ]
    }
   ],
   "source": [
    "for file in files:\n",
    "    print(file)\n",
    "    draw_other(file)"
   ]
  },
  {
   "cell_type": "code",
   "execution_count": 156,
   "metadata": {},
   "outputs": [],
   "source": [
    "same = False\n",
    "split = 1\n",
    "label = 4240123481\n",
    "file = Path('src/train_images/0035b8fc42955c0fa2301b68e2ffe861.jpg')\n",
    "new_label = 3648260272"
   ]
  },
  {
   "cell_type": "code",
   "execution_count": 157,
   "metadata": {},
   "outputs": [
    {
     "data": {
      "text/html": [
       "<div>\n",
       "<style scoped>\n",
       "    .dataframe tbody tr th:only-of-type {\n",
       "        vertical-align: middle;\n",
       "    }\n",
       "\n",
       "    .dataframe tbody tr th {\n",
       "        vertical-align: top;\n",
       "    }\n",
       "\n",
       "    .dataframe thead th {\n",
       "        text-align: right;\n",
       "    }\n",
       "</style>\n",
       "<table border=\"1\" class=\"dataframe\">\n",
       "  <thead>\n",
       "    <tr style=\"text-align: right;\">\n",
       "      <th></th>\n",
       "      <th>posting_id</th>\n",
       "      <th>image</th>\n",
       "      <th>image_phash</th>\n",
       "      <th>title</th>\n",
       "      <th>label_group</th>\n",
       "      <th>is_valid</th>\n",
       "    </tr>\n",
       "  </thead>\n",
       "  <tbody>\n",
       "    <tr>\n",
       "      <th>1</th>\n",
       "      <td>train_1396146683</td>\n",
       "      <td>src/train_images/0035b8fc42955c0fa2301b68e2ffe861.jpg</td>\n",
       "      <td>d5c0caa0aeb3b23e</td>\n",
       "      <td>CHOCO BALL LAGIE COKLAT Lagie Grosir Cokelat Lagie Murah Chocoball Kiloan Chocobal Coklat Kiloan 1Kg</td>\n",
       "      <td>4240123481</td>\n",
       "      <td>True</td>\n",
       "    </tr>\n",
       "  </tbody>\n",
       "</table>\n",
       "</div>"
      ],
      "text/plain": [
       "         posting_id                                                  image  \\\n",
       "1  train_1396146683  src/train_images/0035b8fc42955c0fa2301b68e2ffe861.jpg   \n",
       "\n",
       "        image_phash  \\\n",
       "1  d5c0caa0aeb3b23e   \n",
       "\n",
       "                                                                                                  title  \\\n",
       "1  CHOCO BALL LAGIE COKLAT Lagie Grosir Cokelat Lagie Murah Chocoball Kiloan Chocobal Coklat Kiloan 1Kg   \n",
       "\n",
       "   label_group  is_valid  \n",
       "1   4240123481      True  "
      ]
     },
     "execution_count": 157,
     "metadata": {},
     "output_type": "execute_result"
    }
   ],
   "source": [
    "df[df['image'] == file]"
   ]
  },
  {
   "cell_type": "code",
   "execution_count": 158,
   "metadata": {},
   "outputs": [
    {
     "data": {
      "text/html": [
       "<div>\n",
       "<style scoped>\n",
       "    .dataframe tbody tr th:only-of-type {\n",
       "        vertical-align: middle;\n",
       "    }\n",
       "\n",
       "    .dataframe tbody tr th {\n",
       "        vertical-align: top;\n",
       "    }\n",
       "\n",
       "    .dataframe thead th {\n",
       "        text-align: right;\n",
       "    }\n",
       "</style>\n",
       "<table border=\"1\" class=\"dataframe\">\n",
       "  <thead>\n",
       "    <tr style=\"text-align: right;\">\n",
       "      <th></th>\n",
       "      <th>posting_id</th>\n",
       "      <th>image</th>\n",
       "      <th>image_phash</th>\n",
       "      <th>title</th>\n",
       "      <th>label_group</th>\n",
       "      <th>is_valid</th>\n",
       "    </tr>\n",
       "  </thead>\n",
       "  <tbody>\n",
       "    <tr>\n",
       "      <th>285</th>\n",
       "      <td>train_1778147504</td>\n",
       "      <td>src/train_images/15801cb0a82ecbc07e27c7a4e58f12d6.jpg</td>\n",
       "      <td>d5496a2f2634375a</td>\n",
       "      <td>Popok Dewasa Perekat Size M grosir &amp; eceran</td>\n",
       "      <td>3648260272</td>\n",
       "      <td>False</td>\n",
       "    </tr>\n",
       "    <tr>\n",
       "      <th>456</th>\n",
       "      <td>train_1399677258</td>\n",
       "      <td>src/train_images/22d6761edde423730642af268a7c1884.jpg</td>\n",
       "      <td>c5496aa626153f5b</td>\n",
       "      <td>Popok Dewasa Tipe Perekat size XL</td>\n",
       "      <td>3648260272</td>\n",
       "      <td>False</td>\n",
       "    </tr>\n",
       "    <tr>\n",
       "      <th>2338</th>\n",
       "      <td>train_3820962727</td>\n",
       "      <td>src/train_images/aa980590761f8a22e58f39d43010adb9.jpg</td>\n",
       "      <td>d0e73b56611a6669</td>\n",
       "      <td>Popok Dewasa Perekat Size XL Grosir &amp; Eceran</td>\n",
       "      <td>3648260272</td>\n",
       "      <td>False</td>\n",
       "    </tr>\n",
       "    <tr>\n",
       "      <th>3145</th>\n",
       "      <td>train_105791255</td>\n",
       "      <td>src/train_images/ec6ff2a27bd46c689e1bbea75c9afd82.jpg</td>\n",
       "      <td>c5496aa72615375b</td>\n",
       "      <td>Popok Dewasa Tipe Perekat size L</td>\n",
       "      <td>3648260272</td>\n",
       "      <td>False</td>\n",
       "    </tr>\n",
       "    <tr>\n",
       "      <th>3146</th>\n",
       "      <td>train_1916554181</td>\n",
       "      <td>src/train_images/ec6ff2a27bd46c689e1bbea75c9afd82.jpg</td>\n",
       "      <td>c5496aa72615375b</td>\n",
       "      <td>Popok Dewasa Tipe Perekat size M</td>\n",
       "      <td>3648260272</td>\n",
       "      <td>False</td>\n",
       "    </tr>\n",
       "  </tbody>\n",
       "</table>\n",
       "</div>"
      ],
      "text/plain": [
       "            posting_id                                                  image  \\\n",
       "285   train_1778147504  src/train_images/15801cb0a82ecbc07e27c7a4e58f12d6.jpg   \n",
       "456   train_1399677258  src/train_images/22d6761edde423730642af268a7c1884.jpg   \n",
       "2338  train_3820962727  src/train_images/aa980590761f8a22e58f39d43010adb9.jpg   \n",
       "3145   train_105791255  src/train_images/ec6ff2a27bd46c689e1bbea75c9afd82.jpg   \n",
       "3146  train_1916554181  src/train_images/ec6ff2a27bd46c689e1bbea75c9afd82.jpg   \n",
       "\n",
       "           image_phash                                         title  \\\n",
       "285   d5496a2f2634375a   Popok Dewasa Perekat Size M grosir & eceran   \n",
       "456   c5496aa626153f5b             Popok Dewasa Tipe Perekat size XL   \n",
       "2338  d0e73b56611a6669  Popok Dewasa Perekat Size XL Grosir & Eceran   \n",
       "3145  c5496aa72615375b              Popok Dewasa Tipe Perekat size L   \n",
       "3146  c5496aa72615375b              Popok Dewasa Tipe Perekat size M   \n",
       "\n",
       "      label_group  is_valid  \n",
       "285    3648260272     False  \n",
       "456    3648260272     False  \n",
       "2338   3648260272     False  \n",
       "3145   3648260272     False  \n",
       "3146   3648260272     False  "
      ]
     },
     "execution_count": 158,
     "metadata": {},
     "output_type": "execute_result"
    }
   ],
   "source": [
    "df[df['label_group'] == new_label]"
   ]
  },
  {
   "cell_type": "code",
   "execution_count": 159,
   "metadata": {},
   "outputs": [
    {
     "name": "stdout",
     "output_type": "stream",
     "text": [
      "4240123481 1\n",
      "614235270\n"
     ]
    }
   ],
   "source": [
    "cls = label_func(file)\n",
    "split = get_split(file)\n",
    "print(cls, split)\n",
    "if not same:\n",
    "    cls = random.choice(L(l for l in labels[split] if l != cls))\n",
    "print(cls)"
   ]
  },
  {
   "cell_type": "code",
   "execution_count": 162,
   "metadata": {},
   "outputs": [
    {
     "data": {
      "text/plain": [
       "True"
      ]
     },
     "execution_count": 162,
     "metadata": {},
     "output_type": "execute_result"
    }
   ],
   "source": [
    "label in labels[0]"
   ]
  },
  {
   "cell_type": "code",
   "execution_count": 163,
   "metadata": {},
   "outputs": [
    {
     "data": {
      "text/plain": [
       "4240123481"
      ]
     },
     "execution_count": 163,
     "metadata": {},
     "output_type": "execute_result"
    }
   ],
   "source": [
    "label_func(file)"
   ]
  },
  {
   "cell_type": "code",
   "execution_count": 164,
   "metadata": {},
   "outputs": [
    {
     "data": {
      "text/plain": [
       "1"
      ]
     },
     "execution_count": 164,
     "metadata": {},
     "output_type": "execute_result"
    }
   ],
   "source": [
    "get_split(file)"
   ]
  },
  {
   "cell_type": "code",
   "execution_count": 166,
   "metadata": {},
   "outputs": [
    {
     "data": {
      "text/html": [
       "<div>\n",
       "<style scoped>\n",
       "    .dataframe tbody tr th:only-of-type {\n",
       "        vertical-align: middle;\n",
       "    }\n",
       "\n",
       "    .dataframe tbody tr th {\n",
       "        vertical-align: top;\n",
       "    }\n",
       "\n",
       "    .dataframe thead th {\n",
       "        text-align: right;\n",
       "    }\n",
       "</style>\n",
       "<table border=\"1\" class=\"dataframe\">\n",
       "  <thead>\n",
       "    <tr style=\"text-align: right;\">\n",
       "      <th></th>\n",
       "      <th>posting_id</th>\n",
       "      <th>image</th>\n",
       "      <th>image_phash</th>\n",
       "      <th>title</th>\n",
       "      <th>label_group</th>\n",
       "      <th>is_valid</th>\n",
       "    </tr>\n",
       "  </thead>\n",
       "  <tbody>\n",
       "    <tr>\n",
       "      <th>1</th>\n",
       "      <td>train_1396146683</td>\n",
       "      <td>src/train_images/0035b8fc42955c0fa2301b68e2ffe861.jpg</td>\n",
       "      <td>d5c0caa0aeb3b23e</td>\n",
       "      <td>CHOCO BALL LAGIE COKLAT Lagie Grosir Cokelat Lagie Murah Chocoball Kiloan Chocobal Coklat Kiloan 1Kg</td>\n",
       "      <td>4240123481</td>\n",
       "      <td>True</td>\n",
       "    </tr>\n",
       "  </tbody>\n",
       "</table>\n",
       "</div>"
      ],
      "text/plain": [
       "         posting_id                                                  image  \\\n",
       "1  train_1396146683  src/train_images/0035b8fc42955c0fa2301b68e2ffe861.jpg   \n",
       "\n",
       "        image_phash  \\\n",
       "1  d5c0caa0aeb3b23e   \n",
       "\n",
       "                                                                                                  title  \\\n",
       "1  CHOCO BALL LAGIE COKLAT Lagie Grosir Cokelat Lagie Murah Chocoball Kiloan Chocobal Coklat Kiloan 1Kg   \n",
       "\n",
       "   label_group  is_valid  \n",
       "1   4240123481      True  "
      ]
     },
     "execution_count": 166,
     "metadata": {},
     "output_type": "execute_result"
    }
   ],
   "source": [
    "df[df['image'] == file]"
   ]
  },
  {
   "cell_type": "code",
   "execution_count": null,
   "metadata": {},
   "outputs": [],
   "source": []
  }
 ],
 "metadata": {
  "kernelspec": {
   "display_name": "Python [conda env:fastai2] *",
   "language": "python",
   "name": "conda-env-fastai2-py"
  },
  "language_info": {
   "codemirror_mode": {
    "name": "ipython",
    "version": 3
   },
   "file_extension": ".py",
   "mimetype": "text/x-python",
   "name": "python",
   "nbconvert_exporter": "python",
   "pygments_lexer": "ipython3",
   "version": "3.8.5"
  }
 },
 "nbformat": 4,
 "nbformat_minor": 4
}
