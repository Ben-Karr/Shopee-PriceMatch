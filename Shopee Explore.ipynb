{
 "cells": [
  {
   "cell_type": "markdown",
   "metadata": {},
   "source": [
    "### Setup"
   ]
  },
  {
   "cell_type": "code",
   "execution_count": 1,
   "metadata": {},
   "outputs": [],
   "source": [
    "import pandas as pd\n",
    "import numpy as np\n",
    "\n",
    "from pathlib import Path\n",
    "import codecs"
   ]
  },
  {
   "cell_type": "markdown",
   "metadata": {},
   "source": [
    "### Load Data"
   ]
  },
  {
   "cell_type": "code",
   "execution_count": 2,
   "metadata": {},
   "outputs": [],
   "source": [
    "base_path = Path('src')\n",
    "\n",
    "img_train = base_path / 'train_images'\n",
    "img_test = base_path / 'test_images'"
   ]
  },
  {
   "cell_type": "code",
   "execution_count": 3,
   "metadata": {},
   "outputs": [],
   "source": [
    "df_train = pd.read_csv(base_path / 'train.csv')\n",
    "df_test = pd.read_csv(base_path / 'test.csv')"
   ]
  },
  {
   "cell_type": "markdown",
   "metadata": {},
   "source": [
    "Fix encoding"
   ]
  },
  {
   "cell_type": "code",
   "execution_count": 4,
   "metadata": {},
   "outputs": [],
   "source": [
    "df_train.title = df_train.title.apply(lambda x: codecs.escape_decode(x)[0].decode('utf8'))\n",
    "df_test.title = df_test.title.apply(lambda x: codecs.escape_decode(x)[0].decode('utf8'))"
   ]
  },
  {
   "cell_type": "code",
   "execution_count": 5,
   "metadata": {},
   "outputs": [
    {
     "data": {
      "text/html": [
       "<div>\n",
       "<style scoped>\n",
       "    .dataframe tbody tr th:only-of-type {\n",
       "        vertical-align: middle;\n",
       "    }\n",
       "\n",
       "    .dataframe tbody tr th {\n",
       "        vertical-align: top;\n",
       "    }\n",
       "\n",
       "    .dataframe thead th {\n",
       "        text-align: right;\n",
       "    }\n",
       "</style>\n",
       "<table border=\"1\" class=\"dataframe\">\n",
       "  <thead>\n",
       "    <tr style=\"text-align: right;\">\n",
       "      <th></th>\n",
       "      <th>posting_id</th>\n",
       "      <th>image</th>\n",
       "      <th>image_phash</th>\n",
       "      <th>title</th>\n",
       "      <th>label_group</th>\n",
       "    </tr>\n",
       "  </thead>\n",
       "  <tbody>\n",
       "    <tr>\n",
       "      <th>0</th>\n",
       "      <td>train_129225211</td>\n",
       "      <td>0000a68812bc7e98c42888dfb1c07da0.jpg</td>\n",
       "      <td>94974f937d4c2433</td>\n",
       "      <td>Paper Bag Victoria Secret</td>\n",
       "      <td>249114794</td>\n",
       "    </tr>\n",
       "    <tr>\n",
       "      <th>1</th>\n",
       "      <td>train_3386243561</td>\n",
       "      <td>00039780dfc94d01db8676fe789ecd05.jpg</td>\n",
       "      <td>af3f9460c2838f0f</td>\n",
       "      <td>Double Tape 3M VHB 12 mm x 4,5 m ORIGINAL / DO...</td>\n",
       "      <td>2937985045</td>\n",
       "    </tr>\n",
       "    <tr>\n",
       "      <th>2</th>\n",
       "      <td>train_2288590299</td>\n",
       "      <td>000a190fdd715a2a36faed16e2c65df7.jpg</td>\n",
       "      <td>b94cb00ed3e50f78</td>\n",
       "      <td>Maling TTS Canned Pork Luncheon Meat 397 gr</td>\n",
       "      <td>2395904891</td>\n",
       "    </tr>\n",
       "    <tr>\n",
       "      <th>3</th>\n",
       "      <td>train_2406599165</td>\n",
       "      <td>00117e4fc239b1b641ff08340b429633.jpg</td>\n",
       "      <td>8514fc58eafea283</td>\n",
       "      <td>Daster Batik Lengan pendek - Motif Acak / Camp...</td>\n",
       "      <td>4093212188</td>\n",
       "    </tr>\n",
       "    <tr>\n",
       "      <th>4</th>\n",
       "      <td>train_3369186413</td>\n",
       "      <td>00136d1cf4edede0203f32f05f660588.jpg</td>\n",
       "      <td>a6f319f924ad708c</td>\n",
       "      <td>Nescafe Éclair Latte 220ml</td>\n",
       "      <td>3648931069</td>\n",
       "    </tr>\n",
       "  </tbody>\n",
       "</table>\n",
       "</div>"
      ],
      "text/plain": [
       "         posting_id                                 image       image_phash  \\\n",
       "0   train_129225211  0000a68812bc7e98c42888dfb1c07da0.jpg  94974f937d4c2433   \n",
       "1  train_3386243561  00039780dfc94d01db8676fe789ecd05.jpg  af3f9460c2838f0f   \n",
       "2  train_2288590299  000a190fdd715a2a36faed16e2c65df7.jpg  b94cb00ed3e50f78   \n",
       "3  train_2406599165  00117e4fc239b1b641ff08340b429633.jpg  8514fc58eafea283   \n",
       "4  train_3369186413  00136d1cf4edede0203f32f05f660588.jpg  a6f319f924ad708c   \n",
       "\n",
       "                                               title  label_group  \n",
       "0                          Paper Bag Victoria Secret    249114794  \n",
       "1  Double Tape 3M VHB 12 mm x 4,5 m ORIGINAL / DO...   2937985045  \n",
       "2        Maling TTS Canned Pork Luncheon Meat 397 gr   2395904891  \n",
       "3  Daster Batik Lengan pendek - Motif Acak / Camp...   4093212188  \n",
       "4                         Nescafe Éclair Latte 220ml   3648931069  "
      ]
     },
     "execution_count": 5,
     "metadata": {},
     "output_type": "execute_result"
    }
   ],
   "source": [
    "df_train.head()"
   ]
  },
  {
   "cell_type": "code",
   "execution_count": 56,
   "metadata": {},
   "outputs": [
    {
     "name": "stdout",
     "output_type": "stream",
     "text": [
      "Number of instances: 34250\n",
      "Number of unique label_groups: 11014\n"
     ]
    }
   ],
   "source": [
    "nr_inst = len(df_train)\n",
    "nr_groups = df_train.label_group.nunique()\n",
    "\n",
    "print(f'Number of instances: {nr_inst}')\n",
    "print(f'Number of unique label_groups: {nr_groups}')"
   ]
  },
  {
   "cell_type": "markdown",
   "metadata": {},
   "source": [
    "Distribution of label_groups"
   ]
  },
  {
   "cell_type": "code",
   "execution_count": 17,
   "metadata": {},
   "outputs": [],
   "source": [
    "import seaborn as sns"
   ]
  },
  {
   "cell_type": "code",
   "execution_count": 71,
   "metadata": {},
   "outputs": [],
   "source": [
    "df_group_sizes = df_train.groupby(['label_group']).size().to_frame()\n",
    "df_group_sizes.columns = ['size']"
   ]
  },
  {
   "cell_type": "markdown",
   "metadata": {},
   "source": [
    "Most items are grouped with only one other item."
   ]
  },
  {
   "cell_type": "code",
   "execution_count": 72,
   "metadata": {},
   "outputs": [
    {
     "data": {
      "text/plain": [
       "<AxesSubplot:ylabel='Count'>"
      ]
     },
     "execution_count": 72,
     "metadata": {},
     "output_type": "execute_result"
    },
    {
     "data": {
      "image/png": "[encoded data removed]",
      "text/plain": [
       "<Figure size 432x288 with 1 Axes>"
      ]
     },
     "metadata": {
      "needs_background": "light"
     },
     "output_type": "display_data"
    }
   ],
   "source": [
    "sns.histplot(df_group_sizes, binwidth= 1)"
   ]
  },
  {
   "cell_type": "code",
   "execution_count": 73,
   "metadata": {},
   "outputs": [
    {
     "name": "stdout",
     "output_type": "stream",
     "text": [
      "97.88 % of the label_groups contain at most 10 items\n"
     ]
    }
   ],
   "source": [
    "nr_small_groups = df_group_sizes[df_labels_grouped['size'] <= 10].count()['size']\n",
    "print(f'{round(nr_small_groups / nr_groups * 100,2)} % of the label_groups contain at most 10 items')"
   ]
  },
  {
   "cell_type": "code",
   "execution_count": 79,
   "metadata": {},
   "outputs": [
    {
     "name": "stdout",
     "output_type": "stream",
     "text": [
      "Maximal group size: 51, Label of group of maximal size: 159351600\n"
     ]
    }
   ],
   "source": [
    "max_group = df_group_sizes.idxmax()['size']\n",
    "print('Maximal group size: {}, Label of group of maximal size: {}'.format(df_group_sizes.max()['size'],max_group))"
   ]
  },
  {
   "cell_type": "code",
   "execution_count": 82,
   "metadata": {},
   "outputs": [
    {
     "data": {
      "text/html": [
       "<div>\n",
       "<style scoped>\n",
       "    .dataframe tbody tr th:only-of-type {\n",
       "        vertical-align: middle;\n",
       "    }\n",
       "\n",
       "    .dataframe tbody tr th {\n",
       "        vertical-align: top;\n",
       "    }\n",
       "\n",
       "    .dataframe thead th {\n",
       "        text-align: right;\n",
       "    }\n",
       "</style>\n",
       "<table border=\"1\" class=\"dataframe\">\n",
       "  <thead>\n",
       "    <tr style=\"text-align: right;\">\n",
       "      <th></th>\n",
       "      <th>posting_id</th>\n",
       "      <th>image</th>\n",
       "      <th>image_phash</th>\n",
       "      <th>title</th>\n",
       "      <th>label_group</th>\n",
       "    </tr>\n",
       "  </thead>\n",
       "  <tbody>\n",
       "    <tr>\n",
       "      <th>32089</th>\n",
       "      <td>train_1061695682</td>\n",
       "      <td>f08c575873d6d31183d9e27995d73f22.jpg</td>\n",
       "      <td>e891a3f6a48c3973</td>\n",
       "      <td>[READY, BISA COD]  BPOM GLUTA COLLAGEN SOAP BE...</td>\n",
       "      <td>159351600</td>\n",
       "    </tr>\n",
       "    <tr>\n",
       "      <th>5946</th>\n",
       "      <td>train_2902736490</td>\n",
       "      <td>2d0e11ade5ccb02845e71f27fd671ebd.jpg</td>\n",
       "      <td>c993a7ca34c49d33</td>\n",
       "      <td>READY STOCK FREE GIFT GLUTA COLLAGEN SOAP BEAU...</td>\n",
       "      <td>159351600</td>\n",
       "    </tr>\n",
       "    <tr>\n",
       "      <th>14877</th>\n",
       "      <td>train_3560974982</td>\n",
       "      <td>702fe543211c2d2234828b7f0cd41742.jpg</td>\n",
       "      <td>c993a7ca34c49d33</td>\n",
       "      <td>[READY STOCK, FREE JARING SABUN!!!] Gluta coll...</td>\n",
       "      <td>159351600</td>\n",
       "    </tr>\n",
       "    <tr>\n",
       "      <th>2069</th>\n",
       "      <td>train_1619338643</td>\n",
       "      <td>0ff3d417c454a614596da0f160e85b83.jpg</td>\n",
       "      <td>e3d894276a58c1de</td>\n",
       "      <td>GLUTA COLLAGEN SOAP BY BEAUTETOX SKINSUPERSTAR</td>\n",
       "      <td>159351600</td>\n",
       "    </tr>\n",
       "    <tr>\n",
       "      <th>24564</th>\n",
       "      <td>train_1142799664</td>\n",
       "      <td>b83c819c4ed72c2b86c1ba945db841bc.jpg</td>\n",
       "      <td>ea95956a968d1933</td>\n",
       "      <td>GLUTA COLLAGEN SOAP BEAUTETOX</td>\n",
       "      <td>159351600</td>\n",
       "    </tr>\n",
       "  </tbody>\n",
       "</table>\n",
       "</div>"
      ],
      "text/plain": [
       "             posting_id                                 image  \\\n",
       "32089  train_1061695682  f08c575873d6d31183d9e27995d73f22.jpg   \n",
       "5946   train_2902736490  2d0e11ade5ccb02845e71f27fd671ebd.jpg   \n",
       "14877  train_3560974982  702fe543211c2d2234828b7f0cd41742.jpg   \n",
       "2069   train_1619338643  0ff3d417c454a614596da0f160e85b83.jpg   \n",
       "24564  train_1142799664  b83c819c4ed72c2b86c1ba945db841bc.jpg   \n",
       "\n",
       "            image_phash                                              title  \\\n",
       "32089  e891a3f6a48c3973  [READY, BISA COD]  BPOM GLUTA COLLAGEN SOAP BE...   \n",
       "5946   c993a7ca34c49d33  READY STOCK FREE GIFT GLUTA COLLAGEN SOAP BEAU...   \n",
       "14877  c993a7ca34c49d33  [READY STOCK, FREE JARING SABUN!!!] Gluta coll...   \n",
       "2069   e3d894276a58c1de     GLUTA COLLAGEN SOAP BY BEAUTETOX SKINSUPERSTAR   \n",
       "24564  ea95956a968d1933                      GLUTA COLLAGEN SOAP BEAUTETOX   \n",
       "\n",
       "       label_group  \n",
       "32089    159351600  \n",
       "5946     159351600  \n",
       "14877    159351600  \n",
       "2069     159351600  \n",
       "24564    159351600  "
      ]
     },
     "execution_count": 82,
     "metadata": {},
     "output_type": "execute_result"
    }
   ],
   "source": [
    "df_train[df_train.label_group == max_group].sample(5)"
   ]
  },
  {
   "cell_type": "markdown",
   "metadata": {},
   "source": [
    "* It might make sense to sample a smaller subset of big label_groups to balance the dataset."
   ]
  }
 ],
 "metadata": {
  "kernelspec": {
   "display_name": "Python [conda env:fastai2] *",
   "language": "python",
   "name": "conda-env-fastai2-py"
  },
  "language_info": {
   "codemirror_mode": {
    "name": "ipython",
    "version": 3
   },
   "file_extension": ".py",
   "mimetype": "text/x-python",
   "name": "python",
   "nbconvert_exporter": "python",
   "pygments_lexer": "ipython3",
   "version": "3.8.5"
  }
 },
 "nbformat": 4,
 "nbformat_minor": 4
}
