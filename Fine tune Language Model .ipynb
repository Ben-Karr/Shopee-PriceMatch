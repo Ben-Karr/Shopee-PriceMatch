{
 "cells": [
  {
   "cell_type": "code",
   "execution_count": 1,
   "metadata": {},
   "outputs": [],
   "source": [
    "from fastai.text.all import *"
   ]
  },
  {
   "cell_type": "code",
   "execution_count": 2,
   "metadata": {},
   "outputs": [],
   "source": [
    "base_path = Path('src')\n",
    "\n",
    "img_train = base_path / 'train_images'\n",
    "img_test = base_path / 'test_images'"
   ]
  },
  {
   "cell_type": "code",
   "execution_count": 3,
   "metadata": {},
   "outputs": [],
   "source": [
    "df_train = pd.read_csv(base_path / 'train.csv')\n",
    "df_test = pd.read_csv(base_path / 'test.csv')"
   ]
  },
  {
   "cell_type": "code",
   "execution_count": 8,
   "metadata": {},
   "outputs": [],
   "source": [
    "df = pd.concat([df_train.drop(['label_group'], axis = 1), df_test]).drop(['posting_id','image','image_phash'], axis = 1)"
   ]
  },
  {
   "cell_type": "code",
   "execution_count": 10,
   "metadata": {},
   "outputs": [
    {
     "data": {
      "text/html": [
       "<div>\n",
       "<style scoped>\n",
       "    .dataframe tbody tr th:only-of-type {\n",
       "        vertical-align: middle;\n",
       "    }\n",
       "\n",
       "    .dataframe tbody tr th {\n",
       "        vertical-align: top;\n",
       "    }\n",
       "\n",
       "    .dataframe thead th {\n",
       "        text-align: right;\n",
       "    }\n",
       "</style>\n",
       "<table border=\"1\" class=\"dataframe\">\n",
       "  <thead>\n",
       "    <tr style=\"text-align: right;\">\n",
       "      <th></th>\n",
       "      <th>title</th>\n",
       "    </tr>\n",
       "  </thead>\n",
       "  <tbody>\n",
       "    <tr>\n",
       "      <th>0</th>\n",
       "      <td>Paper Bag Victoria Secret</td>\n",
       "    </tr>\n",
       "    <tr>\n",
       "      <th>1</th>\n",
       "      <td>Double Tape 3M VHB 12 mm x 4,5 m ORIGINAL / DOUBLE FOAM TAPE</td>\n",
       "    </tr>\n",
       "    <tr>\n",
       "      <th>2</th>\n",
       "      <td>Maling TTS Canned Pork Luncheon Meat 397 gr</td>\n",
       "    </tr>\n",
       "    <tr>\n",
       "      <th>3</th>\n",
       "      <td>Daster Batik Lengan pendek - Motif Acak / Campur - Leher Kancing (DPT001-00) Batik karakter Alhadi</td>\n",
       "    </tr>\n",
       "    <tr>\n",
       "      <th>4</th>\n",
       "      <td>Nescafe \\xc3\\x89clair Latte 220ml</td>\n",
       "    </tr>\n",
       "  </tbody>\n",
       "</table>\n",
       "</div>"
      ],
      "text/plain": [
       "                                                                                                title\n",
       "0                                                                           Paper Bag Victoria Secret\n",
       "1                                        Double Tape 3M VHB 12 mm x 4,5 m ORIGINAL / DOUBLE FOAM TAPE\n",
       "2                                                         Maling TTS Canned Pork Luncheon Meat 397 gr\n",
       "3  Daster Batik Lengan pendek - Motif Acak / Campur - Leher Kancing (DPT001-00) Batik karakter Alhadi\n",
       "4                                                                   Nescafe \\xc3\\x89clair Latte 220ml"
      ]
     },
     "execution_count": 10,
     "metadata": {},
     "output_type": "execute_result"
    }
   ],
   "source": [
    "df.head()"
   ]
  },
  {
   "cell_type": "code",
   "execution_count": 19,
   "metadata": {},
   "outputs": [],
   "source": [
    "dls_lm = DataBlock(\n",
    "    blocks = TextBlock.from_df(text_cols='title', is_lm = True, min_freq = 1, max_vocab = None),\n",
    "    get_items = ColReader('title'),\n",
    "    splitter = RandomSplitter(0.1),    \n",
    ").dataloaders(df, bs = 32, seq_len = 80)"
   ]
  },
  {
   "cell_type": "code",
   "execution_count": 20,
   "metadata": {},
   "outputs": [],
   "source": [
    "b = dls_lm.one_batch()\n",
    "vocab = dls_lm.vocab"
   ]
  },
  {
   "cell_type": "code",
   "execution_count": 21,
   "metadata": {},
   "outputs": [
    {
     "data": {
      "text/html": [
       "<table border=\"1\" class=\"dataframe\">\n",
       "  <thead>\n",
       "    <tr style=\"text-align: right;\">\n",
       "      <th></th>\n",
       "      <th>text</th>\n",
       "      <th>text_</th>\n",
       "    </tr>\n",
       "  </thead>\n",
       "  <tbody>\n",
       "    <tr>\n",
       "      <th>0</th>\n",
       "      <td>xxbos xxmaj headset xxmaj philips xxup at-036 xxmaj bass+ xxmaj magnetic xxmaj mic xxmaj bass xxmaj in xxmaj ear xxmaj stereo xxmaj earphone xxbos 100 xxup pcs xxmaj ikat xxmaj karet xxmaj rambut xxmaj elastis xxmaj gaya xxmaj korea - xxmaj aksesoris xxmaj rambut xxbos xxmaj casing xxmaj iphone 11 7plus 8plus 11pro xxmaj max iphone 12 xxmaj pro xxmaj max iphone 12 xxmaj mini xxmaj iphone 8 7 xxmaj plus 6 6s xxmaj plus x xxmaj xs xxmaj max</td>\n",
       "      <td>xxmaj headset xxmaj philips xxup at-036 xxmaj bass+ xxmaj magnetic xxmaj mic xxmaj bass xxmaj in xxmaj ear xxmaj stereo xxmaj earphone xxbos 100 xxup pcs xxmaj ikat xxmaj karet xxmaj rambut xxmaj elastis xxmaj gaya xxmaj korea - xxmaj aksesoris xxmaj rambut xxbos xxmaj casing xxmaj iphone 11 7plus 8plus 11pro xxmaj max iphone 12 xxmaj pro xxmaj max iphone 12 xxmaj mini xxmaj iphone 8 7 xxmaj plus 6 6s xxmaj plus x xxmaj xs xxmaj max xxmaj</td>\n",
       "    </tr>\n",
       "    <tr>\n",
       "      <th>1</th>\n",
       "      <td>sen xxup motor xxup super xxup bright xxbos xxup mama xxup lemon xxup jeruk xxup nipis xxup refill 780ml xxbos xxmaj lion xxmaj star xxmaj hugo 103 xxmaj toples xxmaj round xxmaj jar 6 xxmaj liter xxbos xxmaj karpet xxmaj refleksi xxmaj pijat xxmaj telapak xxmaj kaki xxbos xxup rak xxmaj dinding 3 xxup susun xxmaj gantung xxup rak xxup kosmetik xxup shabby xxup vintage , rak hp remote xxup tv xxbos xxmaj oppo xxup a37 ram 2gb-16 gb garansi</td>\n",
       "      <td>xxup motor xxup super xxup bright xxbos xxup mama xxup lemon xxup jeruk xxup nipis xxup refill 780ml xxbos xxmaj lion xxmaj star xxmaj hugo 103 xxmaj toples xxmaj round xxmaj jar 6 xxmaj liter xxbos xxmaj karpet xxmaj refleksi xxmaj pijat xxmaj telapak xxmaj kaki xxbos xxup rak xxmaj dinding 3 xxup susun xxmaj gantung xxup rak xxup kosmetik xxup shabby xxup vintage , rak hp remote xxup tv xxbos xxmaj oppo xxup a37 ram 2gb-16 gb garansi toko</td>\n",
       "    </tr>\n",
       "  </tbody>\n",
       "</table>"
      ],
      "text/plain": [
       "<IPython.core.display.HTML object>"
      ]
     },
     "metadata": {},
     "output_type": "display_data"
    }
   ],
   "source": [
    "dls_lm.show_batch(max_n = 2)"
   ]
  },
  {
   "cell_type": "code",
   "execution_count": 42,
   "metadata": {},
   "outputs": [],
   "source": [
    "learn = language_model_learner(\n",
    "    dls_lm,\n",
    "    AWD_LSTM,\n",
    "    drop_mult = 0.7,\n",
    "    metrics = [accuracy, Perplexity()]\n",
    ").to_fp16()"
   ]
  },
  {
   "cell_type": "code",
   "execution_count": 43,
   "metadata": {},
   "outputs": [
    {
     "data": {
      "text/html": [
       "<table border=\"1\" class=\"dataframe\">\n",
       "  <thead>\n",
       "    <tr style=\"text-align: left;\">\n",
       "      <th>epoch</th>\n",
       "      <th>train_loss</th>\n",
       "      <th>valid_loss</th>\n",
       "      <th>accuracy</th>\n",
       "      <th>perplexity</th>\n",
       "      <th>time</th>\n",
       "    </tr>\n",
       "  </thead>\n",
       "  <tbody>\n",
       "    <tr>\n",
       "      <td>0</td>\n",
       "      <td>4.143374</td>\n",
       "      <td>3.684131</td>\n",
       "      <td>0.410375</td>\n",
       "      <td>39.810516</td>\n",
       "      <td>00:31</td>\n",
       "    </tr>\n",
       "  </tbody>\n",
       "</table>"
      ],
      "text/plain": [
       "<IPython.core.display.HTML object>"
      ]
     },
     "metadata": {},
     "output_type": "display_data"
    }
   ],
   "source": [
    "learn.fit_one_cycle(1, 2e-2)"
   ]
  },
  {
   "cell_type": "code",
   "execution_count": 44,
   "metadata": {},
   "outputs": [
    {
     "data": {
      "text/html": [
       "<table border=\"1\" class=\"dataframe\">\n",
       "  <thead>\n",
       "    <tr style=\"text-align: left;\">\n",
       "      <th>epoch</th>\n",
       "      <th>train_loss</th>\n",
       "      <th>valid_loss</th>\n",
       "      <th>accuracy</th>\n",
       "      <th>perplexity</th>\n",
       "      <th>time</th>\n",
       "    </tr>\n",
       "  </thead>\n",
       "  <tbody>\n",
       "    <tr>\n",
       "      <td>0</td>\n",
       "      <td>3.460683</td>\n",
       "      <td>3.549863</td>\n",
       "      <td>0.424141</td>\n",
       "      <td>34.808537</td>\n",
       "      <td>00:31</td>\n",
       "    </tr>\n",
       "    <tr>\n",
       "      <td>1</td>\n",
       "      <td>3.247396</td>\n",
       "      <td>3.371286</td>\n",
       "      <td>0.444859</td>\n",
       "      <td>29.115957</td>\n",
       "      <td>00:31</td>\n",
       "    </tr>\n",
       "    <tr>\n",
       "      <td>2</td>\n",
       "      <td>2.973815</td>\n",
       "      <td>3.229550</td>\n",
       "      <td>0.462750</td>\n",
       "      <td>25.268288</td>\n",
       "      <td>00:31</td>\n",
       "    </tr>\n",
       "    <tr>\n",
       "      <td>3</td>\n",
       "      <td>2.668709</td>\n",
       "      <td>3.150180</td>\n",
       "      <td>0.477016</td>\n",
       "      <td>23.340261</td>\n",
       "      <td>00:31</td>\n",
       "    </tr>\n",
       "    <tr>\n",
       "      <td>4</td>\n",
       "      <td>2.412720</td>\n",
       "      <td>3.117157</td>\n",
       "      <td>0.486547</td>\n",
       "      <td>22.582081</td>\n",
       "      <td>00:31</td>\n",
       "    </tr>\n",
       "    <tr>\n",
       "      <td>5</td>\n",
       "      <td>2.166969</td>\n",
       "      <td>3.102320</td>\n",
       "      <td>0.495531</td>\n",
       "      <td>22.249510</td>\n",
       "      <td>00:31</td>\n",
       "    </tr>\n",
       "    <tr>\n",
       "      <td>6</td>\n",
       "      <td>1.984233</td>\n",
       "      <td>3.115340</td>\n",
       "      <td>0.502125</td>\n",
       "      <td>22.541098</td>\n",
       "      <td>00:31</td>\n",
       "    </tr>\n",
       "    <tr>\n",
       "      <td>7</td>\n",
       "      <td>1.822430</td>\n",
       "      <td>3.126861</td>\n",
       "      <td>0.505953</td>\n",
       "      <td>22.802298</td>\n",
       "      <td>00:31</td>\n",
       "    </tr>\n",
       "    <tr>\n",
       "      <td>8</td>\n",
       "      <td>1.731538</td>\n",
       "      <td>3.144025</td>\n",
       "      <td>0.507547</td>\n",
       "      <td>23.197056</td>\n",
       "      <td>00:32</td>\n",
       "    </tr>\n",
       "    <tr>\n",
       "      <td>9</td>\n",
       "      <td>1.686211</td>\n",
       "      <td>3.151995</td>\n",
       "      <td>0.507609</td>\n",
       "      <td>23.382660</td>\n",
       "      <td>00:31</td>\n",
       "    </tr>\n",
       "  </tbody>\n",
       "</table>"
      ],
      "text/plain": [
       "<IPython.core.display.HTML object>"
      ]
     },
     "metadata": {},
     "output_type": "display_data"
    }
   ],
   "source": [
    "learn.unfreeze()\n",
    "learn.fit_one_cycle(10, 2e-3)"
   ]
  },
  {
   "cell_type": "markdown",
   "metadata": {},
   "source": [
    "## Save fine tuned LM & vocab for Shopee Dataset"
   ]
  },
  {
   "cell_type": "code",
   "execution_count": 45,
   "metadata": {},
   "outputs": [],
   "source": [
    "learn.save_encoder('shopee_LM_finetuned_dropout0.7')"
   ]
  },
  {
   "cell_type": "code",
   "execution_count": 31,
   "metadata": {},
   "outputs": [],
   "source": [
    "with open('models/shopee_vocab', 'wb') as f:\n",
    "    pickle.dump(vocab, f)"
   ]
  }
 ],
 "metadata": {
  "kernelspec": {
   "display_name": "Python [conda env:fastai2] *",
   "language": "python",
   "name": "conda-env-fastai2-py"
  },
  "language_info": {
   "codemirror_mode": {
    "name": "ipython",
    "version": 3
   },
   "file_extension": ".py",
   "mimetype": "text/x-python",
   "name": "python",
   "nbconvert_exporter": "python",
   "pygments_lexer": "ipython3",
   "version": "3.8.5"
  }
 },
 "nbformat": 4,
 "nbformat_minor": 4
}
